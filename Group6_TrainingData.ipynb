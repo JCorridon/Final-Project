{
 "cells": [
  {
   "cell_type": "markdown",
   "id": "750ffd95-0515-4e13-9d1a-f8ea48a673d1",
   "metadata": {},
   "source": [
    "# Section 3.1 Training Data Preparation\n",
    "95 features are considered too many features. The number of features must be reduced to increase\r\n",
    "the model’s efficiency. Each team will produce a new training data set with features between 25 and 50.\r\n",
    "There are unlimited ways and numbers to extract, select, drop, and engineer features.\r\n",
    "1. The new train data must not be multicollinear.\r\n",
    "2. Each feature must be in its own Gaussian."
   ]
  },
  {
   "cell_type": "markdown",
   "id": "8c1f37e2-9f95-4448-82f8-f37421b2553d",
   "metadata": {},
   "source": [
    "# Section 3.2 Company Characterization\r\n",
    "Considering the data size, understanding every company’s situation is quite difficult at a given time.\r\n",
    "However, knowing the general situation will greatly help model training. The easiest approach is finding\r\n",
    "the common characteristics between similar companies, and similar companies can easily be grouped by\r\n",
    "using unsupervised learning clustering techniques.\r\n",
    "1. Cluster the training data from 3.1 into k-many subgroups where k can be up to twice the team size\r\n",
    "but not less than the team size. For example, if a team has three members, the cluster groups can\r\n",
    "be between 3 and 6. The target must not be included.\r\n",
    "2. Report the number of companies and the balance of bankrupted companies in each subgroup.\r\n",
    "3. Identify unique or helpful characteristics in each subgroup. Use visualization techniques to present\r\n",
    "identified characteristics.\r\n",
    "4. Keep the cluster IDs. It will be used later in Section 3.3."
   ]
  },
  {
   "cell_type": "code",
   "execution_count": null,
   "id": "bedfcfc6-d53d-42d0-ba2a-fbfd69339891",
   "metadata": {},
   "outputs": [],
   "source": []
  }
 ],
 "metadata": {
  "kernelspec": {
   "display_name": "Python 3 (ipykernel)",
   "language": "python",
   "name": "python3"
  },
  "language_info": {
   "codemirror_mode": {
    "name": "ipython",
    "version": 3
   },
   "file_extension": ".py",
   "mimetype": "text/x-python",
   "name": "python",
   "nbconvert_exporter": "python",
   "pygments_lexer": "ipython3",
   "version": "3.10.8"
  }
 },
 "nbformat": 4,
 "nbformat_minor": 5
}
